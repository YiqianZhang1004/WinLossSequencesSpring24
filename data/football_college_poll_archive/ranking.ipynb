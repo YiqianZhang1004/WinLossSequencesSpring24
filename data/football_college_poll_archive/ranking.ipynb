{
 "cells": [
  {
   "cell_type": "code",
   "execution_count": 2,
   "metadata": {},
   "outputs": [],
   "source": [
    "import pandas as pd\n",
    "import datetime\n",
    "pd.set_option('display.max_columns',None)"
   ]
  },
  {
   "cell_type": "code",
   "execution_count": 275,
   "metadata": {},
   "outputs": [],
   "source": [
    "def getDates(year):\n",
    "    if (year == 2003):\n",
    "        datecols = pd.read_html(\"https://en.wikipedia.org/wiki/2003_NCAA_Division_I-A_football_rankings\")[3]\n",
    "    elif (year >= 2006):\n",
    "        datecols = pd.read_html(\"https://en.wikipedia.org/wiki/\" + str(year) + \"_NCAA_Division_I_FBS_football_rankings\")[2]\n",
    "    elif (year >= 1978):\n",
    "        datecols = pd.read_html(\"https://en.wikipedia.org/wiki/\" + str(year) + \"_NCAA_Division_I-A_football_rankings\")[2]\n",
    "    elif (year >= 1973):\n",
    "        datecols = pd.read_html(\"https://en.wikipedia.org/wiki/\" + str(year) + \"_NCAA_Division_I_football_rankings\")[2]\n",
    "    elif (year >= 1956):\n",
    "        datecols = pd.read_html(\"https://en.wikipedia.org/wiki/\" + str(year) + \"_NCAA_University_Division_football_rankings\")[2]\n",
    "    elif (year >= 1937):\n",
    "        datecols = pd.read_html(\"https://en.wikipedia.org/wiki/\" + str(year) + \"_NCAA_football_rankings\")[2]\n",
    "    else:\n",
    "        datecols = pd.read_html(\"https://en.wikipedia.org/wiki/1936_college_football_rankings\")[2]\n",
    "    list = []\n",
    "    for col in datecols.columns:\n",
    "        list.append(col)\n",
    "    datelist = []\n",
    "    for i in range(1,len(list)-1):\n",
    "        datelist.append(list[i])\n",
    "    return datelist"
   ]
  },
  {
   "cell_type": "code",
   "execution_count": 276,
   "metadata": {},
   "outputs": [],
   "source": [
    "def url_ListMaker(start,end):\n",
    "    urlList = []\n",
    "    for i in range(start,end+1):\n",
    "        base = \"https://collegepollarchive.com/football/ap/seasons.cfm?appollid=\"\n",
    "        urlList.append(base + str(i))\n",
    "    return urlList"
   ]
  },
  {
   "cell_type": "code",
   "execution_count": 277,
   "metadata": {},
   "outputs": [],
   "source": [
    "data = []\n",
    "startindex = 1\n",
    "for i in range(1936,2020):\n",
    "    dateList = getDates(i)\n",
    "    d = {\"year\":i,\"numpolls\":len(dateList),\"startindex\":startindex,\"endindex\":(startindex+len(dateList)-1)}\n",
    "    startindex = startindex+len(dateList)\n",
    "    data.append(d)\n",
    "    data.append({\"year\":2020,\"numpolls\":17,\"startindex\":1169,\"endindex\":1185})\n",
    "    data.append({\"year\":2021,\"numpolls\":len(dateList),\"startindex\":1186,\"endindex\":1201})\n",
    "    data.append({\"year\":2022,\"numpolls\":len(dateList),\"startindex\":1202,\"endindex\":1217})\n",
    "    data.append({\"year\":2023,\"numpolls\":len(dateList),\"startindex\":1218,\"endindex\":1233})\n",
    "numpollsdf = pd.DataFrame(data)"
   ]
  },
  {
   "cell_type": "code",
   "execution_count": 278,
   "metadata": {},
   "outputs": [],
   "source": [
    "def yearlyRanking(year):\n",
    "    dateList = getDates(year)\n",
    "    for i in range(len(numpollsdf)):\n",
    "        if (numpollsdf.iat[i,0] == year):\n",
    "            URL_list = url_ListMaker(numpollsdf.iat[i,2],numpollsdf.iat[i,3])\n",
    "    if len(dateList) == len(URL_list):\n",
    "        df_list = []\n",
    "        for i in range(len(dateList)):\n",
    "            dfl = pd.read_html(URL_list[i])\n",
    "            df = dfl[0]\n",
    "            df[\"Date\"] = dateList[i]\n",
    "            df[\"Year\"] = year\n",
    "            df_list.append(df)\n",
    "        totaldf = pd.concat(df_list,ignore_index=True)\n",
    "        return totaldf\n",
    "    else:\n",
    "        return False"
   ]
  },
  {
   "cell_type": "code",
   "execution_count": 279,
   "metadata": {},
   "outputs": [],
   "source": [
    "df1936 = yearlyRanking(1936)\n",
    "df1937 = yearlyRanking(1937)\n",
    "df1938 = yearlyRanking(1938)\n",
    "df1939 = yearlyRanking(1939)\n",
    "df1940 = yearlyRanking(1940)\n",
    "df1941 = yearlyRanking(1941)\n",
    "df1942 = yearlyRanking(1942)\n",
    "df1943 = yearlyRanking(1943)\n",
    "df1944 = yearlyRanking(1944)\n",
    "df1945 = yearlyRanking(1945)\n",
    "df1946 = yearlyRanking(1946)\n",
    "df1947 = yearlyRanking(1947)\n",
    "df1948 = yearlyRanking(1948)\n",
    "df1949 = yearlyRanking(1949)\n",
    "df1950 = yearlyRanking(1950)"
   ]
  },
  {
   "cell_type": "code",
   "execution_count": 280,
   "metadata": {},
   "outputs": [],
   "source": [
    "df1951 = yearlyRanking(1951)\n",
    "df1952 = yearlyRanking(1952)\n",
    "df1953 = yearlyRanking(1953)\n",
    "df1954 = yearlyRanking(1954)\n",
    "df1955 = yearlyRanking(1955)\n",
    "df1956 = yearlyRanking(1956)\n",
    "df1957 = yearlyRanking(1957)\n",
    "df1958 = yearlyRanking(1958)\n",
    "df1959 = yearlyRanking(1959)\n",
    "df1960 = yearlyRanking(1960)\n",
    "df1961 = yearlyRanking(1961)\n",
    "df1962 = yearlyRanking(1962)\n",
    "df1963 = yearlyRanking(1963)\n",
    "df1964 = yearlyRanking(1964)\n",
    "df1965 = yearlyRanking(1965)\n",
    "df1966 = yearlyRanking(1966)"
   ]
  },
  {
   "cell_type": "code",
   "execution_count": 282,
   "metadata": {},
   "outputs": [],
   "source": [
    "df1967 = yearlyRanking(1967)\n",
    "df1968 = yearlyRanking(1968)\n",
    "df1969 = yearlyRanking(1969)\n",
    "df1970 = yearlyRanking(1970)\n",
    "df1971 = yearlyRanking(1971)\n",
    "df1972 = yearlyRanking(1972)\n",
    "df1973 = yearlyRanking(1973)\n",
    "df1974 = yearlyRanking(1974)\n",
    "df1975 = yearlyRanking(1975)\n",
    "df1976 = yearlyRanking(1976)\n",
    "df1977 = yearlyRanking(1977)\n",
    "df1978 = yearlyRanking(1978)\n",
    "df1979 = yearlyRanking(1979)\n",
    "df1980 = yearlyRanking(1980)\n",
    "df1981 = yearlyRanking(1981)"
   ]
  },
  {
   "cell_type": "code",
   "execution_count": 291,
   "metadata": {},
   "outputs": [],
   "source": [
    "df1982 = yearlyRanking(1982)\n",
    "df1983 = yearlyRanking(1983)\n",
    "df1984 = yearlyRanking(1984)\n",
    "df1985 = yearlyRanking(1985)\n",
    "df1986 = yearlyRanking(1986)\n",
    "df1987 = yearlyRanking(1987)\n",
    "df1988 = yearlyRanking(1988)"
   ]
  },
  {
   "cell_type": "code",
   "execution_count": 287,
   "metadata": {},
   "outputs": [],
   "source": [
    "df1989 = yearlyRanking(1989)\n",
    "df1990 = yearlyRanking(1990)\n",
    "df1991 = yearlyRanking(1991)\n",
    "df1992 = yearlyRanking(1992)\n",
    "df1993 = yearlyRanking(1993)\n",
    "df1994 = yearlyRanking(1994)\n",
    "df1995 = yearlyRanking(1995)"
   ]
  },
  {
   "cell_type": "code",
   "execution_count": 288,
   "metadata": {},
   "outputs": [],
   "source": [
    "df1996 = yearlyRanking(1996)\n",
    "df1997 = yearlyRanking(1997)\n",
    "df1998 = yearlyRanking(1998)\n",
    "df1999 = yearlyRanking(1999)\n",
    "df2000 = yearlyRanking(2000)\n",
    "df2001 = yearlyRanking(2001)\n",
    "df2002 = yearlyRanking(2002)\n",
    "df2003 = yearlyRanking(2003)\n",
    "df2004 = yearlyRanking(2004)\n",
    "df2005 = yearlyRanking(2005)"
   ]
  },
  {
   "cell_type": "code",
   "execution_count": 293,
   "metadata": {},
   "outputs": [],
   "source": [
    "df2006 = yearlyRanking(2006)\n",
    "df2007 = yearlyRanking(2007)\n",
    "df2008 = yearlyRanking(2008)\n",
    "df2009 = yearlyRanking(2009)\n",
    "df2010 = yearlyRanking(2010)\n",
    "df2011 = yearlyRanking(2011)\n",
    "df2012 = yearlyRanking(2012)\n",
    "df2013 = yearlyRanking(2013)\n",
    "df2014 = yearlyRanking(2014)\n",
    "df2015 = yearlyRanking(2015)\n",
    "df2016 = yearlyRanking(2016)\n",
    "df2017 = yearlyRanking(2017)\n",
    "df2018 = yearlyRanking(2018)\n",
    "df2019 = yearlyRanking(2019)"
   ]
  },
  {
   "cell_type": "code",
   "execution_count": 285,
   "metadata": {},
   "outputs": [],
   "source": [
    "df2020 = yearlyRanking(2020)\n",
    "df2021 = yearlyRanking(2021)\n",
    "df2022 = yearlyRanking(2022)\n",
    "df2023 = yearlyRanking(2023)"
   ]
  },
  {
   "cell_type": "code",
   "execution_count": 294,
   "metadata": {},
   "outputs": [],
   "source": [
    "df1936.to_csv('1936_CFB_rankings.csv')\n",
    "df1937.to_csv('1937_CFB_rankings.csv')\n",
    "df1938.to_csv('1938_CFB_rankings.csv')\n",
    "df1939.to_csv('1939_CFB_rankings.csv')\n",
    "df1940.to_csv('1940_CFB_rankings.csv')\n",
    "df1941.to_csv('1941_CFB_rankings.csv')\n",
    "df1942.to_csv('1942_CFB_rankings.csv')\n",
    "df1943.to_csv('1943_CFB_rankings.csv')\n",
    "df1944.to_csv('1944_CFB_rankings.csv')\n",
    "df1945.to_csv('1945_CFB_rankings.csv')\n",
    "df1946.to_csv('1946_CFB_rankings.csv')\n",
    "df1947.to_csv('1947_CFB_rankings.csv')\n",
    "df1948.to_csv('1948_CFB_rankings.csv')\n",
    "df1949.to_csv('1949_CFB_rankings.csv')\n",
    "df1950.to_csv('1950_CFB_rankings.csv')\n",
    "df1951.to_csv('1951_CFB_rankings.csv')\n",
    "df1952.to_csv('1952_CFB_rankings.csv')\n",
    "df1953.to_csv('1953_CFB_rankings.csv')\n",
    "df1954.to_csv('1954_CFB_rankings.csv')\n",
    "df1955.to_csv('1955_CFB_rankings.csv')\n",
    "df1956.to_csv('1956_CFB_rankings.csv')\n",
    "df1957.to_csv('1957_CFB_rankings.csv')\n",
    "df1958.to_csv('1958_CFB_rankings.csv')\n",
    "df1959.to_csv('1959_CFB_rankings.csv')\n",
    "df1960.to_csv('1960_CFB_rankings.csv')\n",
    "df1961.to_csv('1961_CFB_rankings.csv')\n",
    "df1962.to_csv('1962_CFB_rankings.csv')\n",
    "df1963.to_csv('1963_CFB_rankings.csv')\n",
    "df1964.to_csv('1964_CFB_rankings.csv')\n",
    "df1965.to_csv('1965_CFB_rankings.csv')"
   ]
  },
  {
   "cell_type": "code",
   "execution_count": 295,
   "metadata": {},
   "outputs": [],
   "source": [
    "df1966.to_csv('1966_CFB_rankings.csv')\n",
    "df1967.to_csv('1967_CFB_rankings.csv')\n",
    "df1968.to_csv('1968_CFB_rankings.csv')\n",
    "df1969.to_csv('1969_CFB_rankings.csv')\n",
    "df1970.to_csv('1970_CFB_rankings.csv')\n",
    "df1971.to_csv('1971_CFB_rankings.csv')\n",
    "df1972.to_csv('1972_CFB_rankings.csv')\n",
    "df1973.to_csv('1973_CFB_rankings.csv')\n",
    "df1974.to_csv('1974_CFB_rankings.csv')\n",
    "df1975.to_csv('1975_CFB_rankings.csv')\n",
    "df1976.to_csv('1976_CFB_rankings.csv')\n",
    "df1977.to_csv('1977_CFB_rankings.csv')\n",
    "df1978.to_csv('1978_CFB_rankings.csv')\n",
    "df1979.to_csv('1979_CFB_rankings.csv')\n",
    "df1980.to_csv('1980_CFB_rankings.csv')\n",
    "df1981.to_csv('1981_CFB_rankings.csv')\n",
    "df1982.to_csv('1982_CFB_rankings.csv')\n",
    "df1983.to_csv('1983_CFB_rankings.csv')\n",
    "df1984.to_csv('1984_CFB_rankings.csv')\n",
    "df1985.to_csv('1985_CFB_rankings.csv')\n",
    "df1986.to_csv('1986_CFB_rankings.csv')\n",
    "df1987.to_csv('1987_CFB_rankings.csv')\n",
    "df1988.to_csv('1988_CFB_rankings.csv')\n",
    "df1989.to_csv('1989_CFB_rankings.csv')\n",
    "df1990.to_csv('1990_CFB_rankings.csv')\n",
    "df1991.to_csv('1991_CFB_rankings.csv')\n",
    "df1992.to_csv('1992_CFB_rankings.csv')\n",
    "df1993.to_csv('1993_CFB_rankings.csv')\n",
    "df1994.to_csv('1994_CFB_rankings.csv')\n",
    "df1995.to_csv('1995_CFB_rankings.csv')"
   ]
  },
  {
   "cell_type": "code",
   "execution_count": 296,
   "metadata": {},
   "outputs": [
    {
     "ename": "AttributeError",
     "evalue": "'bool' object has no attribute 'to_csv'",
     "output_type": "error",
     "traceback": [
      "\u001b[1;31m---------------------------------------------------------------------------\u001b[0m",
      "\u001b[1;31mAttributeError\u001b[0m                            Traceback (most recent call last)",
      "\u001b[1;32m~\\AppData\\Local\\Temp\\ipykernel_27624\\2512031948.py\u001b[0m in \u001b[0;36m<module>\u001b[1;34m\u001b[0m\n\u001b[0;32m     23\u001b[0m \u001b[0mdf2018\u001b[0m\u001b[1;33m.\u001b[0m\u001b[0mto_csv\u001b[0m\u001b[1;33m(\u001b[0m\u001b[1;34m'2018_CFB_rankings.csv'\u001b[0m\u001b[1;33m)\u001b[0m\u001b[1;33m\u001b[0m\u001b[1;33m\u001b[0m\u001b[0m\n\u001b[0;32m     24\u001b[0m \u001b[0mdf2019\u001b[0m\u001b[1;33m.\u001b[0m\u001b[0mto_csv\u001b[0m\u001b[1;33m(\u001b[0m\u001b[1;34m'2019_CFB_rankings.csv'\u001b[0m\u001b[1;33m)\u001b[0m\u001b[1;33m\u001b[0m\u001b[1;33m\u001b[0m\u001b[0m\n\u001b[1;32m---> 25\u001b[1;33m \u001b[0mdf2020\u001b[0m\u001b[1;33m.\u001b[0m\u001b[0mto_csv\u001b[0m\u001b[1;33m(\u001b[0m\u001b[1;34m'2020_CFB_rankings.csv'\u001b[0m\u001b[1;33m)\u001b[0m\u001b[1;33m\u001b[0m\u001b[1;33m\u001b[0m\u001b[0m\n\u001b[0m\u001b[0;32m     26\u001b[0m \u001b[0mdf2021\u001b[0m\u001b[1;33m.\u001b[0m\u001b[0mto_csv\u001b[0m\u001b[1;33m(\u001b[0m\u001b[1;34m'2021_CFB_rankings.csv'\u001b[0m\u001b[1;33m)\u001b[0m\u001b[1;33m\u001b[0m\u001b[1;33m\u001b[0m\u001b[0m\n\u001b[0;32m     27\u001b[0m \u001b[0mdf2022\u001b[0m\u001b[1;33m.\u001b[0m\u001b[0mto_csv\u001b[0m\u001b[1;33m(\u001b[0m\u001b[1;34m'2021_CFB_rankings.csv'\u001b[0m\u001b[1;33m)\u001b[0m\u001b[1;33m\u001b[0m\u001b[1;33m\u001b[0m\u001b[0m\n",
      "\u001b[1;31mAttributeError\u001b[0m: 'bool' object has no attribute 'to_csv'"
     ]
    }
   ],
   "source": [
    "df1996.to_csv('1996_CFB_rankings.csv')\n",
    "df1997.to_csv('1997_CFB_rankings.csv')\n",
    "df1998.to_csv('1998_CFB_rankings.csv')\n",
    "df1999.to_csv('1999_CFB_rankings.csv')\n",
    "df2000.to_csv('2000_CFB_rankings.csv')\n",
    "df2001.to_csv('2001_CFB_rankings.csv')\n",
    "df2002.to_csv('2002_CFB_rankings.csv')\n",
    "df2003.to_csv('2003_CFB_rankings.csv')\n",
    "df2004.to_csv('2004_CFB_rankings.csv')\n",
    "df2005.to_csv('2005_CFB_rankings.csv')\n",
    "df2006.to_csv('2006_CFB_rankings.csv')\n",
    "df2007.to_csv('2007_CFB_rankings.csv')\n",
    "df2008.to_csv('2008_CFB_rankings.csv')\n",
    "df2009.to_csv('2009_CFB_rankings.csv')\n",
    "df2010.to_csv('2010_CFB_rankings.csv')\n",
    "df2011.to_csv('2011_CFB_rankings.csv')\n",
    "df2012.to_csv('2012_CFB_rankings.csv')\n",
    "df2013.to_csv('2013_CFB_rankings.csv')\n",
    "df2014.to_csv('2014_CFB_rankings.csv')\n",
    "df2015.to_csv('2015_CFB_rankings.csv')\n",
    "df2016.to_csv('2016_CFB_rankings.csv')\n",
    "df2017.to_csv('2017_CFB_rankings.csv')\n",
    "df2018.to_csv('2018_CFB_rankings.csv')\n",
    "df2019.to_csv('2019_CFB_rankings.csv')\n",
    "df2020.to_csv('2020_CFB_rankings.csv')\n",
    "df2021.to_csv('2021_CFB_rankings.csv')\n",
    "df2022.to_csv('2021_CFB_rankings.csv')\n",
    "df2023.to_csv('2023_CFB_rankings.csv')"
   ]
  },
  {
   "cell_type": "code",
   "execution_count": 4,
   "metadata": {},
   "outputs": [
    {
     "ename": "FileNotFoundError",
     "evalue": "[Errno 2] No such file or directory: 'CFB_rankings_all.csv'",
     "output_type": "error",
     "traceback": [
      "\u001b[1;31m---------------------------------------------------------------------------\u001b[0m",
      "\u001b[1;31mFileNotFoundError\u001b[0m                         Traceback (most recent call last)",
      "\u001b[1;32m~\\AppData\\Local\\Temp\\ipykernel_2332\\1869142188.py\u001b[0m in \u001b[0;36m<module>\u001b[1;34m\u001b[0m\n\u001b[1;32m----> 1\u001b[1;33m \u001b[0mcombined\u001b[0m \u001b[1;33m=\u001b[0m \u001b[0mpd\u001b[0m\u001b[1;33m.\u001b[0m\u001b[0mread_csv\u001b[0m\u001b[1;33m(\u001b[0m\u001b[1;34m\"CFB_rankings_all.csv\"\u001b[0m\u001b[1;33m)\u001b[0m\u001b[1;33m\u001b[0m\u001b[1;33m\u001b[0m\u001b[0m\n\u001b[0m",
      "\u001b[1;32m~\\AppData\\Local\\Packages\\PythonSoftwareFoundation.Python.3.7_qbz5n2kfra8p0\\LocalCache\\local-packages\\Python37\\site-packages\\pandas\\util\\_decorators.py\u001b[0m in \u001b[0;36mwrapper\u001b[1;34m(*args, **kwargs)\u001b[0m\n\u001b[0;32m    309\u001b[0m                     \u001b[0mstacklevel\u001b[0m\u001b[1;33m=\u001b[0m\u001b[0mstacklevel\u001b[0m\u001b[1;33m,\u001b[0m\u001b[1;33m\u001b[0m\u001b[1;33m\u001b[0m\u001b[0m\n\u001b[0;32m    310\u001b[0m                 )\n\u001b[1;32m--> 311\u001b[1;33m             \u001b[1;32mreturn\u001b[0m \u001b[0mfunc\u001b[0m\u001b[1;33m(\u001b[0m\u001b[1;33m*\u001b[0m\u001b[0margs\u001b[0m\u001b[1;33m,\u001b[0m \u001b[1;33m**\u001b[0m\u001b[0mkwargs\u001b[0m\u001b[1;33m)\u001b[0m\u001b[1;33m\u001b[0m\u001b[1;33m\u001b[0m\u001b[0m\n\u001b[0m\u001b[0;32m    312\u001b[0m \u001b[1;33m\u001b[0m\u001b[0m\n\u001b[0;32m    313\u001b[0m         \u001b[1;32mreturn\u001b[0m \u001b[0mwrapper\u001b[0m\u001b[1;33m\u001b[0m\u001b[1;33m\u001b[0m\u001b[0m\n",
      "\u001b[1;32m~\\AppData\\Local\\Packages\\PythonSoftwareFoundation.Python.3.7_qbz5n2kfra8p0\\LocalCache\\local-packages\\Python37\\site-packages\\pandas\\io\\parsers\\readers.py\u001b[0m in \u001b[0;36mread_csv\u001b[1;34m(filepath_or_buffer, sep, delimiter, header, names, index_col, usecols, squeeze, prefix, mangle_dupe_cols, dtype, engine, converters, true_values, false_values, skipinitialspace, skiprows, skipfooter, nrows, na_values, keep_default_na, na_filter, verbose, skip_blank_lines, parse_dates, infer_datetime_format, keep_date_col, date_parser, dayfirst, cache_dates, iterator, chunksize, compression, thousands, decimal, lineterminator, quotechar, quoting, doublequote, escapechar, comment, encoding, encoding_errors, dialect, error_bad_lines, warn_bad_lines, on_bad_lines, delim_whitespace, low_memory, memory_map, float_precision, storage_options)\u001b[0m\n\u001b[0;32m    584\u001b[0m     \u001b[0mkwds\u001b[0m\u001b[1;33m.\u001b[0m\u001b[0mupdate\u001b[0m\u001b[1;33m(\u001b[0m\u001b[0mkwds_defaults\u001b[0m\u001b[1;33m)\u001b[0m\u001b[1;33m\u001b[0m\u001b[1;33m\u001b[0m\u001b[0m\n\u001b[0;32m    585\u001b[0m \u001b[1;33m\u001b[0m\u001b[0m\n\u001b[1;32m--> 586\u001b[1;33m     \u001b[1;32mreturn\u001b[0m \u001b[0m_read\u001b[0m\u001b[1;33m(\u001b[0m\u001b[0mfilepath_or_buffer\u001b[0m\u001b[1;33m,\u001b[0m \u001b[0mkwds\u001b[0m\u001b[1;33m)\u001b[0m\u001b[1;33m\u001b[0m\u001b[1;33m\u001b[0m\u001b[0m\n\u001b[0m\u001b[0;32m    587\u001b[0m \u001b[1;33m\u001b[0m\u001b[0m\n\u001b[0;32m    588\u001b[0m \u001b[1;33m\u001b[0m\u001b[0m\n",
      "\u001b[1;32m~\\AppData\\Local\\Packages\\PythonSoftwareFoundation.Python.3.7_qbz5n2kfra8p0\\LocalCache\\local-packages\\Python37\\site-packages\\pandas\\io\\parsers\\readers.py\u001b[0m in \u001b[0;36m_read\u001b[1;34m(filepath_or_buffer, kwds)\u001b[0m\n\u001b[0;32m    480\u001b[0m \u001b[1;33m\u001b[0m\u001b[0m\n\u001b[0;32m    481\u001b[0m     \u001b[1;31m# Create the parser.\u001b[0m\u001b[1;33m\u001b[0m\u001b[1;33m\u001b[0m\u001b[1;33m\u001b[0m\u001b[0m\n\u001b[1;32m--> 482\u001b[1;33m     \u001b[0mparser\u001b[0m \u001b[1;33m=\u001b[0m \u001b[0mTextFileReader\u001b[0m\u001b[1;33m(\u001b[0m\u001b[0mfilepath_or_buffer\u001b[0m\u001b[1;33m,\u001b[0m \u001b[1;33m**\u001b[0m\u001b[0mkwds\u001b[0m\u001b[1;33m)\u001b[0m\u001b[1;33m\u001b[0m\u001b[1;33m\u001b[0m\u001b[0m\n\u001b[0m\u001b[0;32m    483\u001b[0m \u001b[1;33m\u001b[0m\u001b[0m\n\u001b[0;32m    484\u001b[0m     \u001b[1;32mif\u001b[0m \u001b[0mchunksize\u001b[0m \u001b[1;32mor\u001b[0m \u001b[0miterator\u001b[0m\u001b[1;33m:\u001b[0m\u001b[1;33m\u001b[0m\u001b[1;33m\u001b[0m\u001b[0m\n",
      "\u001b[1;32m~\\AppData\\Local\\Packages\\PythonSoftwareFoundation.Python.3.7_qbz5n2kfra8p0\\LocalCache\\local-packages\\Python37\\site-packages\\pandas\\io\\parsers\\readers.py\u001b[0m in \u001b[0;36m__init__\u001b[1;34m(self, f, engine, **kwds)\u001b[0m\n\u001b[0;32m    809\u001b[0m             \u001b[0mself\u001b[0m\u001b[1;33m.\u001b[0m\u001b[0moptions\u001b[0m\u001b[1;33m[\u001b[0m\u001b[1;34m\"has_index_names\"\u001b[0m\u001b[1;33m]\u001b[0m \u001b[1;33m=\u001b[0m \u001b[0mkwds\u001b[0m\u001b[1;33m[\u001b[0m\u001b[1;34m\"has_index_names\"\u001b[0m\u001b[1;33m]\u001b[0m\u001b[1;33m\u001b[0m\u001b[1;33m\u001b[0m\u001b[0m\n\u001b[0;32m    810\u001b[0m \u001b[1;33m\u001b[0m\u001b[0m\n\u001b[1;32m--> 811\u001b[1;33m         \u001b[0mself\u001b[0m\u001b[1;33m.\u001b[0m\u001b[0m_engine\u001b[0m \u001b[1;33m=\u001b[0m \u001b[0mself\u001b[0m\u001b[1;33m.\u001b[0m\u001b[0m_make_engine\u001b[0m\u001b[1;33m(\u001b[0m\u001b[0mself\u001b[0m\u001b[1;33m.\u001b[0m\u001b[0mengine\u001b[0m\u001b[1;33m)\u001b[0m\u001b[1;33m\u001b[0m\u001b[1;33m\u001b[0m\u001b[0m\n\u001b[0m\u001b[0;32m    812\u001b[0m \u001b[1;33m\u001b[0m\u001b[0m\n\u001b[0;32m    813\u001b[0m     \u001b[1;32mdef\u001b[0m \u001b[0mclose\u001b[0m\u001b[1;33m(\u001b[0m\u001b[0mself\u001b[0m\u001b[1;33m)\u001b[0m\u001b[1;33m:\u001b[0m\u001b[1;33m\u001b[0m\u001b[1;33m\u001b[0m\u001b[0m\n",
      "\u001b[1;32m~\\AppData\\Local\\Packages\\PythonSoftwareFoundation.Python.3.7_qbz5n2kfra8p0\\LocalCache\\local-packages\\Python37\\site-packages\\pandas\\io\\parsers\\readers.py\u001b[0m in \u001b[0;36m_make_engine\u001b[1;34m(self, engine)\u001b[0m\n\u001b[0;32m   1038\u001b[0m             )\n\u001b[0;32m   1039\u001b[0m         \u001b[1;31m# error: Too many arguments for \"ParserBase\"\u001b[0m\u001b[1;33m\u001b[0m\u001b[1;33m\u001b[0m\u001b[1;33m\u001b[0m\u001b[0m\n\u001b[1;32m-> 1040\u001b[1;33m         \u001b[1;32mreturn\u001b[0m \u001b[0mmapping\u001b[0m\u001b[1;33m[\u001b[0m\u001b[0mengine\u001b[0m\u001b[1;33m]\u001b[0m\u001b[1;33m(\u001b[0m\u001b[0mself\u001b[0m\u001b[1;33m.\u001b[0m\u001b[0mf\u001b[0m\u001b[1;33m,\u001b[0m \u001b[1;33m**\u001b[0m\u001b[0mself\u001b[0m\u001b[1;33m.\u001b[0m\u001b[0moptions\u001b[0m\u001b[1;33m)\u001b[0m  \u001b[1;31m# type: ignore[call-arg]\u001b[0m\u001b[1;33m\u001b[0m\u001b[1;33m\u001b[0m\u001b[0m\n\u001b[0m\u001b[0;32m   1041\u001b[0m \u001b[1;33m\u001b[0m\u001b[0m\n\u001b[0;32m   1042\u001b[0m     \u001b[1;32mdef\u001b[0m \u001b[0m_failover_to_python\u001b[0m\u001b[1;33m(\u001b[0m\u001b[0mself\u001b[0m\u001b[1;33m)\u001b[0m\u001b[1;33m:\u001b[0m\u001b[1;33m\u001b[0m\u001b[1;33m\u001b[0m\u001b[0m\n",
      "\u001b[1;32m~\\AppData\\Local\\Packages\\PythonSoftwareFoundation.Python.3.7_qbz5n2kfra8p0\\LocalCache\\local-packages\\Python37\\site-packages\\pandas\\io\\parsers\\c_parser_wrapper.py\u001b[0m in \u001b[0;36m__init__\u001b[1;34m(self, src, **kwds)\u001b[0m\n\u001b[0;32m     49\u001b[0m \u001b[1;33m\u001b[0m\u001b[0m\n\u001b[0;32m     50\u001b[0m         \u001b[1;31m# open handles\u001b[0m\u001b[1;33m\u001b[0m\u001b[1;33m\u001b[0m\u001b[1;33m\u001b[0m\u001b[0m\n\u001b[1;32m---> 51\u001b[1;33m         \u001b[0mself\u001b[0m\u001b[1;33m.\u001b[0m\u001b[0m_open_handles\u001b[0m\u001b[1;33m(\u001b[0m\u001b[0msrc\u001b[0m\u001b[1;33m,\u001b[0m \u001b[0mkwds\u001b[0m\u001b[1;33m)\u001b[0m\u001b[1;33m\u001b[0m\u001b[1;33m\u001b[0m\u001b[0m\n\u001b[0m\u001b[0;32m     52\u001b[0m         \u001b[1;32massert\u001b[0m \u001b[0mself\u001b[0m\u001b[1;33m.\u001b[0m\u001b[0mhandles\u001b[0m \u001b[1;32mis\u001b[0m \u001b[1;32mnot\u001b[0m \u001b[1;32mNone\u001b[0m\u001b[1;33m\u001b[0m\u001b[1;33m\u001b[0m\u001b[0m\n\u001b[0;32m     53\u001b[0m \u001b[1;33m\u001b[0m\u001b[0m\n",
      "\u001b[1;32m~\\AppData\\Local\\Packages\\PythonSoftwareFoundation.Python.3.7_qbz5n2kfra8p0\\LocalCache\\local-packages\\Python37\\site-packages\\pandas\\io\\parsers\\base_parser.py\u001b[0m in \u001b[0;36m_open_handles\u001b[1;34m(self, src, kwds)\u001b[0m\n\u001b[0;32m    227\u001b[0m             \u001b[0mmemory_map\u001b[0m\u001b[1;33m=\u001b[0m\u001b[0mkwds\u001b[0m\u001b[1;33m.\u001b[0m\u001b[0mget\u001b[0m\u001b[1;33m(\u001b[0m\u001b[1;34m\"memory_map\"\u001b[0m\u001b[1;33m,\u001b[0m \u001b[1;32mFalse\u001b[0m\u001b[1;33m)\u001b[0m\u001b[1;33m,\u001b[0m\u001b[1;33m\u001b[0m\u001b[1;33m\u001b[0m\u001b[0m\n\u001b[0;32m    228\u001b[0m             \u001b[0mstorage_options\u001b[0m\u001b[1;33m=\u001b[0m\u001b[0mkwds\u001b[0m\u001b[1;33m.\u001b[0m\u001b[0mget\u001b[0m\u001b[1;33m(\u001b[0m\u001b[1;34m\"storage_options\"\u001b[0m\u001b[1;33m,\u001b[0m \u001b[1;32mNone\u001b[0m\u001b[1;33m)\u001b[0m\u001b[1;33m,\u001b[0m\u001b[1;33m\u001b[0m\u001b[1;33m\u001b[0m\u001b[0m\n\u001b[1;32m--> 229\u001b[1;33m             \u001b[0merrors\u001b[0m\u001b[1;33m=\u001b[0m\u001b[0mkwds\u001b[0m\u001b[1;33m.\u001b[0m\u001b[0mget\u001b[0m\u001b[1;33m(\u001b[0m\u001b[1;34m\"encoding_errors\"\u001b[0m\u001b[1;33m,\u001b[0m \u001b[1;34m\"strict\"\u001b[0m\u001b[1;33m)\u001b[0m\u001b[1;33m,\u001b[0m\u001b[1;33m\u001b[0m\u001b[1;33m\u001b[0m\u001b[0m\n\u001b[0m\u001b[0;32m    230\u001b[0m         )\n\u001b[0;32m    231\u001b[0m \u001b[1;33m\u001b[0m\u001b[0m\n",
      "\u001b[1;32m~\\AppData\\Local\\Packages\\PythonSoftwareFoundation.Python.3.7_qbz5n2kfra8p0\\LocalCache\\local-packages\\Python37\\site-packages\\pandas\\io\\common.py\u001b[0m in \u001b[0;36mget_handle\u001b[1;34m(path_or_buf, mode, encoding, compression, memory_map, is_text, errors, storage_options)\u001b[0m\n\u001b[0;32m    705\u001b[0m                 \u001b[0mencoding\u001b[0m\u001b[1;33m=\u001b[0m\u001b[0mioargs\u001b[0m\u001b[1;33m.\u001b[0m\u001b[0mencoding\u001b[0m\u001b[1;33m,\u001b[0m\u001b[1;33m\u001b[0m\u001b[1;33m\u001b[0m\u001b[0m\n\u001b[0;32m    706\u001b[0m                 \u001b[0merrors\u001b[0m\u001b[1;33m=\u001b[0m\u001b[0merrors\u001b[0m\u001b[1;33m,\u001b[0m\u001b[1;33m\u001b[0m\u001b[1;33m\u001b[0m\u001b[0m\n\u001b[1;32m--> 707\u001b[1;33m                 \u001b[0mnewline\u001b[0m\u001b[1;33m=\u001b[0m\u001b[1;34m\"\"\u001b[0m\u001b[1;33m,\u001b[0m\u001b[1;33m\u001b[0m\u001b[1;33m\u001b[0m\u001b[0m\n\u001b[0m\u001b[0;32m    708\u001b[0m             )\n\u001b[0;32m    709\u001b[0m         \u001b[1;32melse\u001b[0m\u001b[1;33m:\u001b[0m\u001b[1;33m\u001b[0m\u001b[1;33m\u001b[0m\u001b[0m\n",
      "\u001b[1;31mFileNotFoundError\u001b[0m: [Errno 2] No such file or directory: 'CFB_rankings_all.csv'"
     ]
    }
   ],
   "source": [
    "combined = pd.read_csv(\"CFB_rankings_all.csv\")"
   ]
  }
 ],
 "metadata": {
  "kernelspec": {
   "display_name": "Python 3",
   "language": "python",
   "name": "python3"
  },
  "language_info": {
   "codemirror_mode": {
    "name": "ipython",
    "version": 3
   },
   "file_extension": ".py",
   "mimetype": "text/x-python",
   "name": "python",
   "nbconvert_exporter": "python",
   "pygments_lexer": "ipython3",
   "version": "3.7.9"
  }
 },
 "nbformat": 4,
 "nbformat_minor": 2
}
